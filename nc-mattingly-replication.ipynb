{
 "cells": [
  {
   "cell_type": "code",
   "execution_count": 66,
   "metadata": {},
   "outputs": [],
   "source": [
    "# Imports\n",
    "\n",
    "import os\n",
    "\n",
    "from gerrychain import Graph, GeographicPartition, Partition, Election\n",
    "from gerrychain.updaters import Tally, cut_edges\n",
    "import geopandas as gpd\n",
    "import numpy as np\n",
    "from gerrychain.random import random\n",
    "import copy\n",
    "\n",
    "from gerrychain import MarkovChain\n",
    "from gerrychain.constraints import single_flip_contiguous\n",
    "from gerrychain.proposals import propose_random_flip\n",
    "from gerrychain.accept import always_accept\n",
    "from gerrychain.metrics import polsby_popper\n",
    "from gerrychain import constraints\n",
    "\n",
    "import matplotlib.pyplot as plt\n",
    "\n",
    "import networkx as nx\n",
    "\n",
    "import pandas\n",
    "\n",
    "import math\n",
    "\n",
    "from functools import partial"
   ]
  },
  {
   "cell_type": "code",
   "execution_count": null,
   "metadata": {},
   "outputs": [],
   "source": [
    "class MH_Annealer:\n",
    "    def __init__(self, score, temp):\n",
    "        self.counter = 0 # counts number of steps in the chain, increment on accept\n",
    "        self.score = score #score function, eats a partition, returns a score\n",
    "        self.temp = temp # function which eats a count and gives the current temp\n",
    "        \n",
    "        \n",
    "        \n",
    "        \n",
    "    def __call__(self, partition):\n",
    "        \n",
    "        prob = (len(partition.parent[\"cut_edges\"])/len(partition[\"cut_edges\"]) * \n",
    "                math.exp(-self.temp(self.counter) * (self.score(partition) - self.score(partition.parent))))\n",
    "        #print((len(partition[\"cut_edges\"])/len(partition.parent[\"cut_edges\"]),prob)\n",
    "        if prob > random.random():\n",
    "            self.counter += 1\n",
    "            return True\n",
    "        else:\n",
    "            return False"
   ]
  },
  {
   "cell_type": "code",
   "execution_count": 58,
   "metadata": {},
   "outputs": [],
   "source": [
    "def mattinglyscore_2018(partition, df):\n",
    "    # Based on this one https: // arxiv.org / pdf / 1801.03783.pdf\n",
    "    # This is the most polished version available\n",
    "\n",
    "\n",
    "    M_C = 10000\n",
    "\n",
    "\n",
    "    ###Population Part\n",
    "\n",
    "    pop_list = list(partition[\"population\"].values())\n",
    "    pop_ideal = np.sum ( pop_list) / 13\n",
    "    J_p = np.linalg.norm(( [ x/ pop_ideal - 1 for x in pop_list]))\n",
    "\n",
    "\n",
    "    ###PolsbyPopperPart\n",
    "\n",
    "    J_I = np.sum( list( partition[\"polsby_popper\"]))\n",
    "\n",
    "    ###County Splits\n",
    "\n",
    "    df[\"current\"] = df[\"VTD\"].map(partition.assignment.parts)\n",
    "    \n",
    "    \n",
    "    county_splits = {} #Maps to list of number of VTDS in each districts\n",
    "\n",
    "    for pair in df.groupby([\"County\", \"current\"])[\"VTD\"]:\n",
    "        county_splits[pair[0][0]] = []\n",
    "\n",
    "    for pair in df.groupby([\"County\", \"current\"])[\"VTD\"]:\n",
    "        county_splits[pair[0][0]].append(len(pair[1]))\n",
    "\n",
    "    # Checking against num splits: len ( [x for x in county_splits.keys() if len(county_splits[x]) > 1] )\n",
    "\n",
    "    num_2_splits = 0\n",
    "    num_2_splits_W = 0\n",
    "    num_greater_splits = 0\n",
    "    num_greater_splits_W = 0\n",
    "\n",
    "\n",
    "    for county in county_splits.keys():\n",
    "        if len( county_splits[county]) == 2:\n",
    "            total = sum( county_splits[county])\n",
    "            max_2 = min( county_splits[county])\n",
    "            num_2_splits += 1\n",
    "            num_2_splits_W += np.sqrt( max_2 / total )\n",
    "        if len(county_splits[county]) > 2:\n",
    "            total = sum(county_splits[county])\n",
    "            county_splits[county].sort()\n",
    "            left_overs = total - county_splits[county][-1] - county_splits[county][-2]\n",
    "            num_greater_splits += 1\n",
    "            num_greater_splits_W += np.sqrt( left_overs / total)\n",
    "\n",
    "    J_c = num_2_splits * num_2_splits_W + M_C * num_greater_splits * num_greater_splits_W\n",
    "\n",
    "        \n",
    "    # mattingly's \"poor man's vra\" is sqrt(H(.4448 - m_1)) + sqrt(H(.3620 - m_2)) where\n",
    "    # m_1 and m_2 are the BPOP for the two districts with the highest BPOP\n",
    "    # and H(x) = max(0,x) (the name H comes from 'hinge', bc this looks like the hinge loss in ML)\n",
    "    \n",
    "    \n",
    "    pop_list = list(partition[\"population\"].values())\n",
    "    bpop_list = list(partition[\"black_pop\"].values())\n",
    "    \n",
    "    \n",
    "    bpop_props = sorted([ bpop_list[i]/pop_list[i] for i in range(len(pop_list)) ], reverse=True)\n",
    "    \n",
    "    \n",
    "    J_m = math.sqrt( max(0,(.4448 - bpop_props[0]))   ) + math.sqrt(  max(0,.3620 - bpop_props[1])  )\n",
    "\n",
    "    return 3000 * J_p + 2.5 * J_I + 0.4 * J_c + 800 * J_m"
   ]
  },
  {
   "cell_type": "code",
   "execution_count": 48,
   "metadata": {},
   "outputs": [],
   "source": [
    "## Methods\n",
    "\n",
    "def analyze_dem_seats():\n",
    "\n",
    "    d_percents = [sorted(partition[\"SEN12\"].percents(\"Dem\")) for partition in chain]\n",
    "    data = pandas.DataFrame(d_percents)\n",
    "\n",
    "    ax = data.boxplot(positions=range(len(data.columns)))\n",
    "    data.iloc[0].plot(style=\"ro\", ax=ax)\n",
    "\n",
    "    plt.show()\n",
    "\n",
    "def deviation(values):\n",
    "    ideal = np.mean(values)\n",
    "    deviations = [ np.abs(x - ideal)/ideal for x in values]\n",
    "    return np.max(deviations)\n",
    "\n",
    "def MattinglyScore_2014(partition, L = 1/2, beta = 1):\n",
    "    #L is Mattingly's Lambda\n",
    "\n",
    "    #Based on this one: https://arxiv.org/pdf/1410.8796.pdf\n",
    "    #This was the original project, and was a prototype\n",
    "\n",
    "    c_pop = 1/5000\n",
    "    c_compact = 2000\n",
    "\n",
    "    J_pop = c_pop*np.var(list(partition[\"population\"].values()))\n",
    "    J_compact = c_compact * np.sum( list( partition[\"polsby_popper\"]))\n",
    "\n",
    "    J_L = L * J_pop + (1 - L) * J_compact\n",
    "\n",
    "\n",
    "    return np.exp(e, -1 * beta * J_L)\n",
    "\n",
    "\n",
    "\n",
    "def num_splits(partition, df):\n",
    "    df[\"current\"] = df.index.map(dict(partition.assignment))\n",
    "    return sum(df.groupby(\"COUNTYFP10\")[\"current\"].nunique() > 1)\n",
    "\n",
    "def pop_MCMC(partition):\n",
    "    temperature = 1000\n",
    "    bound = 1\n",
    "    if partition.parent is not None:\n",
    "        parent_score = np.var(list(partition.parent[\"population\"].values()))\n",
    "        current_score = np.var(list(partition[\"population\"].values()))\n",
    "        if parent_score > current_score:\n",
    "            bound = 1\n",
    "        else:\n",
    "            bound = (parent_score / current_score)**temperature\n",
    "            #print('bound is:', bound)\n",
    "    return random.random() < bound\n",
    "\n",
    "def polsby_MCMC(partition):\n",
    "    \n",
    "    temperature = 100000\n",
    "    bound = 1\n",
    "    if partition.parent is not None:\n",
    "        parent_score =  1 - np.mean(list(partition.parent[\"polsby_popper\"].values()))\n",
    "        current_score = 1 - np.mean(list(partition[\"polsby_popper\"].values()))\n",
    "        if parent_score > current_score:\n",
    "            bound = 1\n",
    "        else:\n",
    "            bound = (parent_score / current_score)**(temperature)\n",
    "            #print('bound is:', bound)\n",
    "    return random.random() < bound\n",
    "\n",
    "\n",
    "def popandpolsby_MCMC(partition):\n",
    "    return polsby_MCMC(partition) and pop_MCMC(partition)\n",
    "\n",
    "\n",
    "\n",
    "\n",
    "def mattingly_temperature(counter):\n",
    "    # temp is zero for the first 40,000 steps\n",
    "    # increaes linearly to one over the next 60,000 accepted steps\n",
    "    # fixed at one for 20,000 accepted steps, then we record the plan\n",
    "    \n",
    "    if counter < 40000: return 0\n",
    "    elif counter > 100000: return 1\n",
    "    else: return (counter-40000)/60000\n",
    "        \n",
    "    "
   ]
  },
  {
   "cell_type": "code",
   "execution_count": 50,
   "metadata": {},
   "outputs": [],
   "source": [
    "# setup -- SLOW\n",
    "\n",
    "shapefile = \"NC_VTD/NC_VTD.shp\"\n",
    "\n",
    "df = gpd.read_file(shapefile)\n",
    "\n",
    "\n",
    "\n",
    "for idx, row in df.iterrows():\n",
    "    try:\n",
    "        row.geometry.intersection(row.geometry)\n",
    "    except TopologicalError:\n",
    "        buffered = row.geometry.buffer(0)\n",
    "        buffered.intersection(buffered)\n",
    "        repaired.append(idx)\n",
    "        row.geometry = buffered\n",
    "\n",
    "        \n",
    "graph = Graph.from_geodataframe(df,ignore_errors=True)        \n",
    "  "
   ]
  },
  {
   "cell_type": "code",
   "execution_count": 51,
   "metadata": {},
   "outputs": [
    {
     "name": "stdout",
     "output_type": "stream",
     "text": [
      "['ALAND10', 'AWATER10', 'VTD', 'County', 'VTD_Key', 'VTD_Name', 'PL10AA_TOT', 'PL10VA_TOT', 'EL08G_GV_D', 'EL08G_GV_R', 'EL08G_GV_L', 'EL08G_GV_T', 'EL08G_USS_', 'EL08G_US_1', 'EL08G_US_2', 'EL08G_US_3', 'EL08G_US_4', 'EL10G_USS_', 'EL10G_US_1', 'EL10G_US_2', 'EL10G_US_3', 'EL10G_US_4', 'EL12G_GV_D', 'EL12G_GV_R', 'EL12G_GV_L', 'EL12G_GV_W', 'EL12G_GV_1', 'EL12G_GV_T', 'EL14G_USS_', 'EL14G_US_1', 'EL14G_US_2', 'EL14G_US_3', 'EL14G_US_4', 'Shape_Leng', 'Shape_Area', 'EL12G_PR_D', 'EL12G_PR_R', 'EL12G_PR_L', 'EL12G_PR_W', 'EL12G_PR_1', 'EL12G_PR_T', 'EL16G_PR_R', 'EL16G_PR_D', 'EL16G_PR_L', 'EL16G_PR_W', 'EL16G_PR_T', 'EL16G_USS_', 'EL16G_US_1', 'EL16G_US_2', 'EL16G_US_3', 'EL16G_GV_D', 'EL16G_GV_R', 'EL16G_GV_L', 'EL16G_GV_T', 'BPOP', 'nBPOP', 'judge', 'newplan', 'oldplan', 'TOTPOP', 'NH_WHITE', 'NH_BLACK', 'NH_AMIN', 'NH_ASIAN', 'NH_NHPI', 'NH_OTHER', 'NH_2MORE', 'HISP', 'H_WHITE', 'H_BLACK', 'H_AMIN', 'H_ASIAN', 'H_NHPI', 'H_OTHER', 'H_2MORE', 'VAP', 'HVAP', 'WVAP', 'BVAP', 'AMINVAP', 'ASIANVAP', 'NHPIVAP', 'OTHERVAP', '2MOREVAP', 'geometry']\n"
     ]
    }
   ],
   "source": [
    "graph.add_data(df,list(df))\n",
    "print(list(df))"
   ]
  },
  {
   "cell_type": "code",
   "execution_count": 74,
   "metadata": {},
   "outputs": [
    {
     "name": "stdout",
     "output_type": "stream",
     "text": [
      "True\n"
     ]
    }
   ],
   "source": [
    "election = Election(\"SEN12\", {\"Dem\": \"EL14G_USS_\", \"Rep\": \"EL14G_US_1\"})\n",
    "\n",
    "\n",
    "\n",
    "starting_partition = GeographicPartition(\n",
    "    graph,\n",
    "    assignment=\"judge\",\n",
    "    updaters={\n",
    "        \"polsby_popper\" : polsby_popper,\n",
    "        \"cut_edges\": cut_edges,\n",
    "        \"population\": Tally(\"PL10AA_TOT\", alias=\"population\"),\n",
    "        \"black_pop\": Tally(\"BPOP\", alias=\"black_pop\"), #this is black pop, for BVAP, use 'BVAP' (nb: BVAP doesn't include black hispanic but BPOP does)\n",
    "        \"SEN12\": election,\n",
    "        \"County Splits\": num_splits\n",
    "    }\n",
    ")\n",
    "\n",
    "print(single_flip_contiguous(starting_partition))"
   ]
  },
  {
   "cell_type": "code",
   "execution_count": 77,
   "metadata": {},
   "outputs": [
    {
     "name": "stdout",
     "output_type": "stream",
     "text": [
      "55672\r"
     ]
    },
    {
     "ename": "KeyboardInterrupt",
     "evalue": "",
     "output_type": "error",
     "traceback": [
      "\u001b[0;31m---------------------------------------------------------------------------\u001b[0m",
      "\u001b[0;31mKeyboardInterrupt\u001b[0m                         Traceback (most recent call last)",
      "\u001b[0;32m<ipython-input-77-d02e7f03da9d>\u001b[0m in \u001b[0;36m<module>\u001b[0;34m\u001b[0m\n\u001b[1;32m     19\u001b[0m \u001b[0mtic\u001b[0m \u001b[0;34m=\u001b[0m \u001b[0mtime\u001b[0m\u001b[0;34m.\u001b[0m\u001b[0mtime\u001b[0m\u001b[0;34m(\u001b[0m\u001b[0;34m)\u001b[0m\u001b[0;34m\u001b[0m\u001b[0;34m\u001b[0m\u001b[0m\n\u001b[1;32m     20\u001b[0m \u001b[0mstep\u001b[0m \u001b[0;34m=\u001b[0m \u001b[0;36m0\u001b[0m\u001b[0;34m\u001b[0m\u001b[0;34m\u001b[0m\u001b[0m\n\u001b[0;32m---> 21\u001b[0;31m \u001b[0;32mfor\u001b[0m \u001b[0mpart\u001b[0m \u001b[0;32min\u001b[0m \u001b[0mchain\u001b[0m\u001b[0;34m:\u001b[0m\u001b[0;34m\u001b[0m\u001b[0;34m\u001b[0m\u001b[0m\n\u001b[0m\u001b[1;32m     22\u001b[0m     \u001b[0mstep\u001b[0m \u001b[0;34m+=\u001b[0m\u001b[0;36m1\u001b[0m\u001b[0;34m\u001b[0m\u001b[0;34m\u001b[0m\u001b[0m\n\u001b[1;32m     23\u001b[0m     \u001b[0mprint\u001b[0m\u001b[0;34m(\u001b[0m\u001b[0mstep\u001b[0m\u001b[0;34m,\u001b[0m\u001b[0mend\u001b[0m\u001b[0;34m=\u001b[0m\u001b[0;34m'\\r'\u001b[0m\u001b[0;34m)\u001b[0m\u001b[0;34m\u001b[0m\u001b[0;34m\u001b[0m\u001b[0m\n",
      "\u001b[0;32m/usr/local/lib/python3.7/site-packages/gerrychain/chain.py\u001b[0m in \u001b[0;36m__next__\u001b[0;34m(self)\u001b[0m\n\u001b[1;32m     70\u001b[0m \u001b[0;34m\u001b[0m\u001b[0m\n\u001b[1;32m     71\u001b[0m             \u001b[0;32mif\u001b[0m \u001b[0mself\u001b[0m\u001b[0;34m.\u001b[0m\u001b[0mis_valid\u001b[0m\u001b[0;34m(\u001b[0m\u001b[0mproposed_next_state\u001b[0m\u001b[0;34m)\u001b[0m\u001b[0;34m:\u001b[0m\u001b[0;34m\u001b[0m\u001b[0;34m\u001b[0m\u001b[0m\n\u001b[0;32m---> 72\u001b[0;31m                 \u001b[0;32mif\u001b[0m \u001b[0mself\u001b[0m\u001b[0;34m.\u001b[0m\u001b[0maccept\u001b[0m\u001b[0;34m(\u001b[0m\u001b[0mproposed_next_state\u001b[0m\u001b[0;34m)\u001b[0m\u001b[0;34m:\u001b[0m\u001b[0;34m\u001b[0m\u001b[0;34m\u001b[0m\u001b[0m\n\u001b[0m\u001b[1;32m     73\u001b[0m                     \u001b[0mself\u001b[0m\u001b[0;34m.\u001b[0m\u001b[0mstate\u001b[0m \u001b[0;34m=\u001b[0m \u001b[0mproposed_next_state\u001b[0m\u001b[0;34m\u001b[0m\u001b[0;34m\u001b[0m\u001b[0m\n\u001b[1;32m     74\u001b[0m                 \u001b[0mself\u001b[0m\u001b[0;34m.\u001b[0m\u001b[0mcounter\u001b[0m \u001b[0;34m+=\u001b[0m \u001b[0;36m1\u001b[0m\u001b[0;34m\u001b[0m\u001b[0;34m\u001b[0m\u001b[0m\n",
      "\u001b[0;32m<ipython-input-73-40020755d447>\u001b[0m in \u001b[0;36m__call__\u001b[0;34m(self, partition)\u001b[0m\n\u001b[1;32m     11\u001b[0m \u001b[0;34m\u001b[0m\u001b[0m\n\u001b[1;32m     12\u001b[0m         prob = (len(partition[\"cut_edges\"])/len(partition.parent[\"cut_edges\"]) * \n\u001b[0;32m---> 13\u001b[0;31m                 math.exp(-self.temp(self.counter) * (self.score(partition) - self.score(partition.parent))))\n\u001b[0m\u001b[1;32m     14\u001b[0m         \u001b[0;31m#print((len(partition[\"cut_edges\"])/len(partition.parent[\"cut_edges\"]),prob)\u001b[0m\u001b[0;34m\u001b[0m\u001b[0;34m\u001b[0m\u001b[0;34m\u001b[0m\u001b[0m\n\u001b[1;32m     15\u001b[0m         \u001b[0;32mif\u001b[0m \u001b[0mprob\u001b[0m \u001b[0;34m>\u001b[0m \u001b[0mrandom\u001b[0m\u001b[0;34m.\u001b[0m\u001b[0mrandom\u001b[0m\u001b[0;34m(\u001b[0m\u001b[0;34m)\u001b[0m\u001b[0;34m:\u001b[0m\u001b[0;34m\u001b[0m\u001b[0;34m\u001b[0m\u001b[0m\n",
      "\u001b[0;32m<ipython-input-58-3a1c4b940832>\u001b[0m in \u001b[0;36mmattinglyscore_2018\u001b[0;34m(partition, df)\u001b[0m\n\u001b[1;32m     25\u001b[0m     \u001b[0mcounty_splits\u001b[0m \u001b[0;34m=\u001b[0m \u001b[0;34m{\u001b[0m\u001b[0;34m}\u001b[0m \u001b[0;31m#Maps to list of number of VTDS in each districts\u001b[0m\u001b[0;34m\u001b[0m\u001b[0;34m\u001b[0m\u001b[0m\n\u001b[1;32m     26\u001b[0m \u001b[0;34m\u001b[0m\u001b[0m\n\u001b[0;32m---> 27\u001b[0;31m     \u001b[0;32mfor\u001b[0m \u001b[0mpair\u001b[0m \u001b[0;32min\u001b[0m \u001b[0mdf\u001b[0m\u001b[0;34m.\u001b[0m\u001b[0mgroupby\u001b[0m\u001b[0;34m(\u001b[0m\u001b[0;34m[\u001b[0m\u001b[0;34m\"County\"\u001b[0m\u001b[0;34m,\u001b[0m \u001b[0;34m\"current\"\u001b[0m\u001b[0;34m]\u001b[0m\u001b[0;34m)\u001b[0m\u001b[0;34m[\u001b[0m\u001b[0;34m\"VTD\"\u001b[0m\u001b[0;34m]\u001b[0m\u001b[0;34m:\u001b[0m\u001b[0;34m\u001b[0m\u001b[0;34m\u001b[0m\u001b[0m\n\u001b[0m\u001b[1;32m     28\u001b[0m         \u001b[0mcounty_splits\u001b[0m\u001b[0;34m[\u001b[0m\u001b[0mpair\u001b[0m\u001b[0;34m[\u001b[0m\u001b[0;36m0\u001b[0m\u001b[0;34m]\u001b[0m\u001b[0;34m[\u001b[0m\u001b[0;36m0\u001b[0m\u001b[0;34m]\u001b[0m\u001b[0;34m]\u001b[0m \u001b[0;34m=\u001b[0m \u001b[0;34m[\u001b[0m\u001b[0;34m]\u001b[0m\u001b[0;34m\u001b[0m\u001b[0;34m\u001b[0m\u001b[0m\n\u001b[1;32m     29\u001b[0m \u001b[0;34m\u001b[0m\u001b[0m\n",
      "\u001b[0;32m/usr/local/lib/python3.7/site-packages/pandas/core/groupby/ops.py\u001b[0m in \u001b[0;36mget_iterator\u001b[0;34m(self, data, axis)\u001b[0m\n\u001b[1;32m    142\u001b[0m         \"\"\"\n\u001b[1;32m    143\u001b[0m         \u001b[0msplitter\u001b[0m \u001b[0;34m=\u001b[0m \u001b[0mself\u001b[0m\u001b[0;34m.\u001b[0m\u001b[0m_get_splitter\u001b[0m\u001b[0;34m(\u001b[0m\u001b[0mdata\u001b[0m\u001b[0;34m,\u001b[0m \u001b[0maxis\u001b[0m\u001b[0;34m=\u001b[0m\u001b[0maxis\u001b[0m\u001b[0;34m)\u001b[0m\u001b[0;34m\u001b[0m\u001b[0;34m\u001b[0m\u001b[0m\n\u001b[0;32m--> 144\u001b[0;31m         \u001b[0mkeys\u001b[0m \u001b[0;34m=\u001b[0m \u001b[0mself\u001b[0m\u001b[0;34m.\u001b[0m\u001b[0m_get_group_keys\u001b[0m\u001b[0;34m(\u001b[0m\u001b[0;34m)\u001b[0m\u001b[0;34m\u001b[0m\u001b[0;34m\u001b[0m\u001b[0m\n\u001b[0m\u001b[1;32m    145\u001b[0m         \u001b[0;32mfor\u001b[0m \u001b[0mkey\u001b[0m\u001b[0;34m,\u001b[0m \u001b[0;34m(\u001b[0m\u001b[0mi\u001b[0m\u001b[0;34m,\u001b[0m \u001b[0mgroup\u001b[0m\u001b[0;34m)\u001b[0m \u001b[0;32min\u001b[0m \u001b[0mzip\u001b[0m\u001b[0;34m(\u001b[0m\u001b[0mkeys\u001b[0m\u001b[0;34m,\u001b[0m \u001b[0msplitter\u001b[0m\u001b[0;34m)\u001b[0m\u001b[0;34m:\u001b[0m\u001b[0;34m\u001b[0m\u001b[0;34m\u001b[0m\u001b[0m\n\u001b[1;32m    146\u001b[0m             \u001b[0;32myield\u001b[0m \u001b[0mkey\u001b[0m\u001b[0;34m,\u001b[0m \u001b[0mgroup\u001b[0m\u001b[0;34m\u001b[0m\u001b[0;34m\u001b[0m\u001b[0m\n",
      "\u001b[0;32m/usr/local/lib/python3.7/site-packages/pandas/core/groupby/ops.py\u001b[0m in \u001b[0;36m_get_group_keys\u001b[0;34m(self)\u001b[0m\n\u001b[1;32m    159\u001b[0m             return get_flattened_iterator(comp_ids,\n\u001b[1;32m    160\u001b[0m                                           \u001b[0mngroups\u001b[0m\u001b[0;34m,\u001b[0m\u001b[0;34m\u001b[0m\u001b[0;34m\u001b[0m\u001b[0m\n\u001b[0;32m--> 161\u001b[0;31m                                           \u001b[0mself\u001b[0m\u001b[0;34m.\u001b[0m\u001b[0mlevels\u001b[0m\u001b[0;34m,\u001b[0m\u001b[0;34m\u001b[0m\u001b[0;34m\u001b[0m\u001b[0m\n\u001b[0m\u001b[1;32m    162\u001b[0m                                           self.labels)\n\u001b[1;32m    163\u001b[0m \u001b[0;34m\u001b[0m\u001b[0m\n",
      "\u001b[0;32m/usr/local/lib/python3.7/site-packages/pandas/core/groupby/ops.py\u001b[0m in \u001b[0;36mlevels\u001b[0;34m(self)\u001b[0m\n\u001b[1;32m    212\u001b[0m     \u001b[0;34m@\u001b[0m\u001b[0mproperty\u001b[0m\u001b[0;34m\u001b[0m\u001b[0;34m\u001b[0m\u001b[0m\n\u001b[1;32m    213\u001b[0m     \u001b[0;32mdef\u001b[0m \u001b[0mlevels\u001b[0m\u001b[0;34m(\u001b[0m\u001b[0mself\u001b[0m\u001b[0;34m)\u001b[0m\u001b[0;34m:\u001b[0m\u001b[0;34m\u001b[0m\u001b[0;34m\u001b[0m\u001b[0m\n\u001b[0;32m--> 214\u001b[0;31m         \u001b[0;32mreturn\u001b[0m \u001b[0;34m[\u001b[0m\u001b[0mping\u001b[0m\u001b[0;34m.\u001b[0m\u001b[0mgroup_index\u001b[0m \u001b[0;32mfor\u001b[0m \u001b[0mping\u001b[0m \u001b[0;32min\u001b[0m \u001b[0mself\u001b[0m\u001b[0;34m.\u001b[0m\u001b[0mgroupings\u001b[0m\u001b[0;34m]\u001b[0m\u001b[0;34m\u001b[0m\u001b[0;34m\u001b[0m\u001b[0m\n\u001b[0m\u001b[1;32m    215\u001b[0m \u001b[0;34m\u001b[0m\u001b[0m\n\u001b[1;32m    216\u001b[0m     \u001b[0;34m@\u001b[0m\u001b[0mproperty\u001b[0m\u001b[0;34m\u001b[0m\u001b[0;34m\u001b[0m\u001b[0m\n",
      "\u001b[0;31mKeyboardInterrupt\u001b[0m: "
     ]
    }
   ],
   "source": [
    "#run with MCMC constraints\n",
    "\n",
    "#This is a hack : because of somethign in continuiguity check\n",
    "#starting_partition.parent = starting_partition\n",
    "#End hack\n",
    "\n",
    "mattingly_accept = MH_Annealer(score = partial(mattinglyscore_2018, df = df), temp = mattingly_temperature)\n",
    "\n",
    "\n",
    "\n",
    "chain = MarkovChain(\n",
    "    proposal=propose_random_flip,\n",
    "    constraints=[single_flip_contiguous],\n",
    "    accept=mattingly_accept,\n",
    "    initial_state=starting_partition,\n",
    "    total_steps=120003\n",
    ")\n",
    "import time\n",
    "tic = time.time()\n",
    "step = 0\n",
    "for part in chain:\n",
    "    step +=1\n",
    "    print(step,end='\\r')\n",
    "    #print(mattinglyscore_2018(part,df))\n",
    "    #print(deviation(list(part[\"population\"].values())))\n",
    "    if step == 120000: print(mattinglyscore_2018(part,df))\n",
    "print(time.time() - tic)"
   ]
  },
  {
   "cell_type": "code",
   "execution_count": null,
   "metadata": {},
   "outputs": [],
   "source": [
    "# run without constraints\n",
    "\n",
    "chain = MarkovChain(\n",
    "    proposal=propose_random_flip,\n",
    "    constraints=[single_flip_contiguous],\n",
    "    accept=always_accept,\n",
    "    initial_state=starting_partition,\n",
    "    total_steps=100000\n",
    ")\n",
    "for part in chain:\n",
    "    pass"
   ]
  },
  {
   "cell_type": "code",
   "execution_count": null,
   "metadata": {},
   "outputs": [],
   "source": [
    "# mattingly 2018 annealing\n",
    "\n",
    "chain = MarkovChain(\n",
    "    proposal=propose_random_flip,\n",
    "    constraints=[single_flip_contiguous],\n",
    "    accept=always_accept,\n",
    "    initial_state=starting_partition,\n",
    "    total_steps=40000\n",
    ")\n",
    "for part in chain:\n",
    "    pass\n",
    "\n",
    "## Use an updated to  grow beta linearly over 60,000 accepted steps\n",
    "## -> @Daryl\n",
    "\n",
    "## beta fixed at one for 20000 *accepted* steps\n",
    "\n",
    "#At the end of this, we get one sample"
   ]
  },
  {
   "cell_type": "code",
   "execution_count": 60,
   "metadata": {},
   "outputs": [
    {
     "ename": "NameError",
     "evalue": "name 'run_without_constraints' is not defined",
     "output_type": "error",
     "traceback": [
      "\u001b[0;31m---------------------------------------------------------------------------\u001b[0m",
      "\u001b[0;31mNameError\u001b[0m                                 Traceback (most recent call last)",
      "\u001b[0;32m<ipython-input-60-8ecf4caba45b>\u001b[0m in \u001b[0;36m<module>\u001b[0;34m\u001b[0m\n\u001b[1;32m      6\u001b[0m \u001b[0;34m\u001b[0m\u001b[0m\n\u001b[1;32m      7\u001b[0m \u001b[0;32mfor\u001b[0m \u001b[0mk\u001b[0m \u001b[0;32min\u001b[0m \u001b[0mrange\u001b[0m\u001b[0;34m(\u001b[0m\u001b[0mstages\u001b[0m\u001b[0;34m)\u001b[0m\u001b[0;34m:\u001b[0m\u001b[0;34m\u001b[0m\u001b[0;34m\u001b[0m\u001b[0m\n\u001b[0;32m----> 8\u001b[0;31m     \u001b[0mstarting_partition\u001b[0m \u001b[0;34m=\u001b[0m \u001b[0mrun_without_constraints\u001b[0m\u001b[0;34m(\u001b[0m\u001b[0mstarting_partition\u001b[0m\u001b[0;34m)\u001b[0m\u001b[0;34m\u001b[0m\u001b[0;34m\u001b[0m\u001b[0m\n\u001b[0m\u001b[1;32m      9\u001b[0m     \u001b[0mannealed_partition\u001b[0m \u001b[0;34m=\u001b[0m \u001b[0mrun_with_MCMC_constraints\u001b[0m\u001b[0;34m(\u001b[0m\u001b[0mstarting_partition\u001b[0m\u001b[0;34m)\u001b[0m\u001b[0;34m\u001b[0m\u001b[0;34m\u001b[0m\u001b[0m\n\u001b[1;32m     10\u001b[0m     \u001b[0mprint\u001b[0m\u001b[0;34m(\u001b[0m \u001b[0;34m\"unnealed\"\u001b[0m\u001b[0;34m,\u001b[0m \u001b[0;34m[\u001b[0m\u001b[0mdeviation\u001b[0m\u001b[0;34m(\u001b[0m\u001b[0mlist\u001b[0m\u001b[0;34m(\u001b[0m\u001b[0mstarting_partition\u001b[0m\u001b[0;34m[\u001b[0m\u001b[0;34m\"population\"\u001b[0m\u001b[0;34m]\u001b[0m\u001b[0;34m.\u001b[0m\u001b[0mvalues\u001b[0m\u001b[0;34m(\u001b[0m\u001b[0;34m)\u001b[0m\u001b[0;34m)\u001b[0m\u001b[0;34m)\u001b[0m\u001b[0;34m,\u001b[0m \u001b[0mnp\u001b[0m\u001b[0;34m.\u001b[0m\u001b[0mmean\u001b[0m\u001b[0;34m(\u001b[0m\u001b[0mlist\u001b[0m\u001b[0;34m(\u001b[0m\u001b[0mstarting_partition\u001b[0m\u001b[0;34m[\u001b[0m\u001b[0;34m\"polsby_popper\"\u001b[0m\u001b[0;34m]\u001b[0m\u001b[0;34m.\u001b[0m\u001b[0mvalues\u001b[0m\u001b[0;34m(\u001b[0m\u001b[0;34m)\u001b[0m\u001b[0;34m)\u001b[0m\u001b[0;34m)\u001b[0m\u001b[0;34m]\u001b[0m \u001b[0;34m)\u001b[0m\u001b[0;34m\u001b[0m\u001b[0;34m\u001b[0m\u001b[0m\n",
      "\u001b[0;31mNameError\u001b[0m: name 'run_without_constraints' is not defined"
     ]
    }
   ],
   "source": [
    "# test annealing\n",
    "\n",
    "stages = 5\n",
    "\n",
    "annealed_partitions = []\n",
    "\n",
    "for k in range(stages):\n",
    "    starting_partition = run_without_constraints(starting_partition)\n",
    "    annealed_partition = run_with_MCMC_constraints(starting_partition)\n",
    "    print( \"unnealed\", [deviation(list(starting_partition[\"population\"].values())), np.mean(list(starting_partition[\"polsby_popper\"].values()))] )\n",
    "    print(  \"annealed\", [deviation(list(annealed_partition[\"population\"].values())), np.mean(list(annealed_partition[\"polsby_popper\"].values()))] )\n",
    "    annealed_partitions.append(annealed_partition)\n",
    "    starting_partition = annealed_partition\n"
   ]
  },
  {
   "cell_type": "code",
   "execution_count": 61,
   "metadata": {},
   "outputs": [
    {
     "name": "stdout",
     "output_type": "stream",
     "text": [
      "<module 'gerrychain.random' from '/usr/local/lib/python3.7/site-packages/gerrychain/random.py'>\n"
     ]
    }
   ],
   "source": []
  },
  {
   "cell_type": "code",
   "execution_count": 64,
   "metadata": {},
   "outputs": [
    {
     "ename": "NameError",
     "evalue": "name 'gerrychain' is not defined",
     "output_type": "error",
     "traceback": [
      "\u001b[0;31m---------------------------------------------------------------------------\u001b[0m",
      "\u001b[0;31mNameError\u001b[0m                                 Traceback (most recent call last)",
      "\u001b[0;32m<ipython-input-64-de74da64aa18>\u001b[0m in \u001b[0;36m<module>\u001b[0;34m\u001b[0m\n\u001b[0;32m----> 1\u001b[0;31m \u001b[0mprint\u001b[0m\u001b[0;34m(\u001b[0m\u001b[0mgerrychain\u001b[0m\u001b[0;34m.\u001b[0m\u001b[0mrandom\u001b[0m\u001b[0;34m(\u001b[0m\u001b[0;34m)\u001b[0m\u001b[0;34m)\u001b[0m\u001b[0;34m\u001b[0m\u001b[0;34m\u001b[0m\u001b[0m\n\u001b[0m",
      "\u001b[0;31mNameError\u001b[0m: name 'gerrychain' is not defined"
     ]
    }
   ],
   "source": []
  },
  {
   "cell_type": "code",
   "execution_count": null,
   "metadata": {},
   "outputs": [],
   "source": []
  }
 ],
 "metadata": {
  "kernelspec": {
   "display_name": "Python 3",
   "language": "python",
   "name": "python3"
  },
  "language_info": {
   "codemirror_mode": {
    "name": "ipython",
    "version": 3
   },
   "file_extension": ".py",
   "mimetype": "text/x-python",
   "name": "python",
   "nbconvert_exporter": "python",
   "pygments_lexer": "ipython3",
   "version": "3.7.3"
  }
 },
 "nbformat": 4,
 "nbformat_minor": 2
}
